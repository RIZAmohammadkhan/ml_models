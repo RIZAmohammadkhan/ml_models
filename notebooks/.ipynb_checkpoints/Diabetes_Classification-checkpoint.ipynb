{
 "cells": [
  {
   "cell_type": "code",
   "execution_count": 19,
   "id": "4fd4c227",
   "metadata": {},
   "outputs": [],
   "source": [
    "import pandas as pd\n",
    "import numpy as np\n",
    "import matplotlib.pyplot as plt\n",
    "dataset = pd.read_csv('../datasets/diabetes.csv')"
   ]
  },
  {
   "cell_type": "code",
   "execution_count": 20,
   "id": "c7f3a0d6",
   "metadata": {},
   "outputs": [],
   "source": [
    "from sklearn.preprocessing import LabelEncoder\n",
    "le = LabelEncoder()\n",
    "le.fit(dataset['gender'])\n",
    "dataset['gender']=le.transform(dataset['gender'])"
   ]
  },
  {
   "cell_type": "code",
   "execution_count": 21,
   "id": "4cc8d759",
   "metadata": {},
   "outputs": [],
   "source": [
    "from sklearn.preprocessing import OneHotEncoder\n",
    "ohe = OneHotEncoder(sparse_output=False)\n",
    "onehot = ohe.fit_transform(dataset[['smoking_history']])\n",
    "EncodedData = pd.DataFrame(onehot,columns=ohe.get_feature_names_out(['smoking_history']))\n",
    "del dataset['smoking_history']"
   ]
  },
  {
   "cell_type": "code",
   "execution_count": 22,
   "id": "e707ea72",
   "metadata": {},
   "outputs": [],
   "source": [
    "dataset = pd.concat([dataset, EncodedData],axis=1)"
   ]
  },
  {
   "cell_type": "code",
   "execution_count": 23,
   "id": "8e4c65b5",
   "metadata": {},
   "outputs": [],
   "source": [
    "y = dataset['diabetes']\n",
    "del dataset['diabetes']\n",
    "X = dataset"
   ]
  },
  {
   "cell_type": "code",
   "execution_count": 6,
   "id": "d05ff04e",
   "metadata": {},
   "outputs": [],
   "source": [
    "from sklearn.model_selection import train_test_split as tts\n",
    "X_train,X_test,y_train,y_test = tts(X, y)"
   ]
  },
  {
   "cell_type": "code",
   "execution_count": 7,
   "id": "a09ba146",
   "metadata": {},
   "outputs": [],
   "source": [
    "from sklearn.svm import SVC\n",
    "classifier = SVC(kernel='rbf')\n",
    "classifier.fit(X_train,y_train)\n",
    "y = classifier.predict(X_test)"
   ]
  },
  {
   "cell_type": "code",
   "execution_count": null,
   "id": "a8deae10",
   "metadata": {},
   "outputs": [],
   "source": [
    "y1 = y "
   ]
  },
  {
   "cell_type": "code",
   "execution_count": 33,
   "id": "9ce5fcc0",
   "metadata": {},
   "outputs": [
    {
     "name": "stderr",
     "output_type": "stream",
     "text": [
      "E:\\ml\\work\\ml_dl\\Lib\\site-packages\\sklearn\\base.py:439: UserWarning: X does not have valid feature names, but SVC was fitted with feature names\n",
      "  warnings.warn(\n"
     ]
    },
    {
     "data": {
      "text/plain": [
       "(array([0], dtype=int64), 0)"
      ]
     },
     "execution_count": 33,
     "metadata": {},
     "output_type": "execute_result"
    }
   ],
   "source": [
    "classifier.predict([X_test.iloc[0]]),y_test.iloc[0]"
   ]
  },
  {
   "cell_type": "code",
   "execution_count": 27,
   "id": "e49607c2",
   "metadata": {},
   "outputs": [
    {
     "data": {
      "text/plain": [
       "array([[22898,  1329],\n",
       "       [    0,   773]], dtype=int64)"
      ]
     },
     "execution_count": 27,
     "metadata": {},
     "output_type": "execute_result"
    }
   ],
   "source": [
    "from sklearn.metrics import confusion_matrix\n",
    "confusion_matrix(y1,y_test)"
   ]
  },
  {
   "cell_type": "code",
   "execution_count": 28,
   "id": "9a894ff4",
   "metadata": {},
   "outputs": [
    {
     "data": {
      "text/plain": [
       "0.94684"
      ]
     },
     "execution_count": 28,
     "metadata": {},
     "output_type": "execute_result"
    }
   ],
   "source": [
    "from sklearn.metrics import accuracy_score\n",
    "accuracy_score(y1,y_test)"
   ]
  },
  {
   "cell_type": "code",
   "execution_count": null,
   "id": "44c9989f",
   "metadata": {},
   "outputs": [],
   "source": []
  }
 ],
 "metadata": {
  "kernelspec": {
   "display_name": "Python 3 (ipykernel)",
   "language": "python",
   "name": "python3"
  },
  "language_info": {
   "codemirror_mode": {
    "name": "ipython",
    "version": 3
   },
   "file_extension": ".py",
   "mimetype": "text/x-python",
   "name": "python",
   "nbconvert_exporter": "python",
   "pygments_lexer": "ipython3",
   "version": "3.11.2"
  }
 },
 "nbformat": 4,
 "nbformat_minor": 5
}
